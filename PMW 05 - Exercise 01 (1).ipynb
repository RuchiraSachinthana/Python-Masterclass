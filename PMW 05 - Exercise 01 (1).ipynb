{
 "cells": [
  {
   "cell_type": "markdown",
   "metadata": {},
   "source": [
    "# (01) Get two integer values from the user and print their product if the product is less than 100. Else print sum of the values."
   ]
  },
  {
   "cell_type": "code",
   "execution_count": 1,
   "metadata": {},
   "outputs": [
    {
     "name": "stdout",
     "output_type": "stream",
     "text": [
      "40\n"
     ]
    }
   ],
   "source": [
    "numberOne = int(input(\"Enter the first value: \"))\n",
    "numberTwo = int(input(\"Enter the second value: \"))\n",
    "\n",
    "if numberOne*numberTwo < 100:\n",
    "    print(numberOne*numberTwo)\n",
    "else:\n",
    "    print(numberOne + numberTwo)"
   ]
  },
  {
   "cell_type": "code",
   "execution_count": 2,
   "outputs": [
    {
     "name": "stdout",
     "output_type": "stream",
     "text": [
      "25\n"
     ]
    }
   ],
   "source": [
    "numberOne = int(input(\"Enter the first value: \"))\n",
    "numberTwo = int(input(\"Enter the second value: \"))\n",
    "result = numberOne*numberTwo if numberOne*numberTwo < 100 else numberOne + numberTwo\n",
    "print(result)"
   ],
   "metadata": {
    "collapsed": false
   }
  },
  {
   "cell_type": "markdown",
   "metadata": {},
   "source": [
    "# (02) Write a program to iterate from 0th number to the end number and append the product of the current number and the previous number in a list given as a parameter, to a new list. That new list should be returned."
   ]
  },
  {
   "cell_type": "code",
   "execution_count": 3,
   "metadata": {},
   "outputs": [
    {
     "data": {
      "text/plain": "[2, 8, 24, 48, 80, 120]"
     },
     "execution_count": 3,
     "metadata": {},
     "output_type": "execute_result"
    }
   ],
   "source": [
    "L = [2,4,6,8,10,12]\n",
    "\n",
    "L_new = [L[0] if i == 0 else L[i]* L[i-1] for i in range(len(L)) ]\n",
    "L_new"
   ]
  },
  {
   "cell_type": "code",
   "execution_count": 7,
   "outputs": [
    {
     "data": {
      "text/plain": "[2, 8, 24, 48, 80, 120]"
     },
     "execution_count": 7,
     "metadata": {},
     "output_type": "execute_result"
    }
   ],
   "source": [
    "Ln = [2,4,6,8,10,12]\n",
    "Ln_new = []\n",
    "for i in range(len(Ln)):\n",
    "    if i == 0:\n",
    "        Ln_new.append(Ln[0])\n",
    "    else:\n",
    "        Ln_new.append(Ln[i]*Ln[i-1])\n",
    "\n",
    "Ln_new"
   ],
   "metadata": {
    "collapsed": false
   }
  },
  {
   "cell_type": "markdown",
   "metadata": {},
   "source": [
    "# (03) Write a program such that for a given list, print the sum of those values which are present at the even indexes in list."
   ]
  },
  {
   "cell_type": "code",
   "execution_count": 13,
   "metadata": {},
   "outputs": [
    {
     "name": "stdout",
     "output_type": "stream",
     "text": [
      "47\n"
     ]
    }
   ],
   "source": [
    "N = [2,1,4,5,3,6,7,4,7,8,4,2,4,5,7,5,3,5,6,10]\n",
    "s = 0\n",
    "\n",
    "for i in range(len(N)):\n",
    "    if i%2==0:\n",
    "        s = s + N[i]\n",
    "\n",
    "print(s)\n"
   ]
  },
  {
   "cell_type": "code",
   "execution_count": 18,
   "outputs": [
    {
     "data": {
      "text/plain": "47"
     },
     "execution_count": 18,
     "metadata": {},
     "output_type": "execute_result"
    }
   ],
   "source": [
    "sum([N[i] for i in range(len(N)) if i%2==0])"
   ],
   "metadata": {
    "collapsed": false
   }
  },
  {
   "cell_type": "code",
   "execution_count": 22,
   "outputs": [
    {
     "data": {
      "text/plain": "47"
     },
     "execution_count": 22,
     "metadata": {},
     "output_type": "execute_result"
    }
   ],
   "source": [
    "sum([j for i,j in enumerate(N) if i%2==0])"
   ],
   "metadata": {
    "collapsed": false
   }
  },
  {
   "cell_type": "code",
   "execution_count": 20,
   "outputs": [
    {
     "data": {
      "text/plain": "47"
     },
     "execution_count": 20,
     "metadata": {},
     "output_type": "execute_result"
    }
   ],
   "source": [
    "sum(N[::2])"
   ],
   "metadata": {
    "collapsed": false
   }
  },
  {
   "cell_type": "markdown",
   "metadata": {},
   "source": [
    "# (04) Write a program such that, for a given list of integers, print True if the first and last values in the list are the same. Else print the False"
   ]
  },
  {
   "cell_type": "code",
   "execution_count": 23,
   "outputs": [
    {
     "name": "stdout",
     "output_type": "stream",
     "text": [
      "False\n"
     ]
    }
   ],
   "source": [
    "A = [2,3,4,3,5,5,67,88,9,4]\n",
    "if A[0] == A[-1]:\n",
    "        print(\"True\")\n",
    "else:\n",
    "        print(\"False\")"
   ],
   "metadata": {
    "collapsed": false
   }
  },
  {
   "cell_type": "code",
   "execution_count": 24,
   "outputs": [
    {
     "data": {
      "text/plain": "False"
     },
     "execution_count": 24,
     "metadata": {},
     "output_type": "execute_result"
    }
   ],
   "source": [
    "A = [2,3,4,3,5,5,67,88,9,4]\n",
    "A[0] == A[-1]"
   ],
   "metadata": {
    "collapsed": false
   }
  },
  {
   "cell_type": "code",
   "execution_count": 16,
   "metadata": {},
   "outputs": [
    {
     "name": "stdout",
     "output_type": "stream",
     "text": [
      "False\n"
     ]
    }
   ],
   "source": [
    "A = [2,3,4,3,5,5,67,88,9,4]\n",
    "\n",
    "if A[0] == A[len(A)-1]:\n",
    "        print(\"True\")\n",
    "else:\n",
    "        print(\"False\")\n"
   ]
  },
  {
   "cell_type": "code",
   "execution_count": 25,
   "outputs": [
    {
     "data": {
      "text/plain": "False"
     },
     "execution_count": 25,
     "metadata": {},
     "output_type": "execute_result"
    }
   ],
   "source": [
    "A = [2,3,4,3,5,5,67,88,9,4]\n",
    "A.pop(0) == A.pop()"
   ],
   "metadata": {
    "collapsed": false
   }
  },
  {
   "cell_type": "markdown",
   "metadata": {},
   "source": [
    "# (05) Write a program such that, print True if a given list is same as the reversed list. Else print False"
   ]
  },
  {
   "cell_type": "code",
   "execution_count": 27,
   "metadata": {},
   "outputs": [
    {
     "data": {
      "text/plain": "True"
     },
     "execution_count": 27,
     "metadata": {},
     "output_type": "execute_result"
    }
   ],
   "source": [
    "B = [2,3,4,3,5,3,4,3,2]\n",
    "\n",
    "list(reversed(B)) == B\n"
   ]
  },
  {
   "cell_type": "markdown",
   "metadata": {},
   "source": [
    "# (06) For given two lists of integers, create a third list such that it should contain only numbers which are divisible by 3 from the first list and numbers which are divisible by 5 from the second list."
   ]
  },
  {
   "cell_type": "code",
   "execution_count": 28,
   "metadata": {},
   "outputs": [
    {
     "data": {
      "text/plain": "[6, 3, 9, 12, 3, 6, 9, 5, 5, 10, 15, 5]"
     },
     "execution_count": 28,
     "metadata": {},
     "output_type": "execute_result"
    }
   ],
   "source": [
    "a = [2,1,4,6,7,3,7,9,12,3,6,9,7,4]\n",
    "b = [5,2,5,7,10,15,6,4,7,5,3,9]\n",
    "c = [i for i in a if i%3==0]\n",
    "d = [i for i in b if i%5 ==0]\n",
    "\n",
    "c+d"
   ]
  },
  {
   "cell_type": "markdown",
   "metadata": {},
   "source": [
    "# (07) Given an array of integers, print True if 6 appears as either first or last element in the array.Else print False The array will be length 1 or more."
   ]
  },
  {
   "cell_type": "code",
   "execution_count": 30,
   "metadata": {},
   "outputs": [
    {
     "data": {
      "text/plain": "True"
     },
     "execution_count": 30,
     "metadata": {},
     "output_type": "execute_result"
    }
   ],
   "source": [
    "v = [12,1,6,2,6,32,1,6]\n",
    "v[0] == 6 or v[-1] == 6"
   ]
  },
  {
   "cell_type": "markdown",
   "metadata": {},
   "source": [
    "# (08) Given 2 arrays of integers; a and b, print True if they have the same first element or they have the same last element. Else print False. Both arrays will be length 1 or more."
   ]
  },
  {
   "cell_type": "code",
   "execution_count": 32,
   "metadata": {},
   "outputs": [
    {
     "data": {
      "text/plain": "True"
     },
     "execution_count": 32,
     "metadata": {},
     "output_type": "execute_result"
    }
   ],
   "source": [
    "a = [1,2,3,4,2]\n",
    "b = [1,4,6,7,8]\n",
    "\n",
    "a[0] == b[0] or a[-1] == b[-1]"
   ]
  },
  {
   "cell_type": "markdown",
   "metadata": {},
   "source": [
    "# (09) Given an array, figure out which is larger, the first or last element in the array and set all the other elements to be that value. Return the changed array."
   ]
  },
  {
   "cell_type": "code",
   "execution_count": null,
   "metadata": {},
   "outputs": [],
   "source": []
  },
  {
   "cell_type": "markdown",
   "metadata": {},
   "source": [
    "# (10) Print the number of even integers in a given array."
   ]
  },
  {
   "cell_type": "code",
   "execution_count": null,
   "metadata": {},
   "outputs": [],
   "source": []
  },
  {
   "cell_type": "markdown",
   "metadata": {},
   "source": [
    "# (11) Print two separate lists of even values and odd values when you give a list."
   ]
  },
  {
   "cell_type": "code",
   "execution_count": null,
   "metadata": {},
   "outputs": [],
   "source": []
  },
  {
   "cell_type": "markdown",
   "metadata": {},
   "source": [
    "# (12) Return centered average of an array of integers, which means the mean of the values except the smallest value and the largest value of an array. The length of the array should be greater than 3."
   ]
  },
  {
   "cell_type": "code",
   "execution_count": null,
   "metadata": {},
   "outputs": [],
   "source": []
  },
  {
   "cell_type": "markdown",
   "metadata": {},
   "source": [
    "# (13) For an array with integers, print True if the array has atleast two similar values as neighbors."
   ]
  },
  {
   "cell_type": "code",
   "execution_count": null,
   "metadata": {},
   "outputs": [],
   "source": []
  },
  {
   "cell_type": "markdown",
   "metadata": {},
   "source": [
    "# (14) Write a program that converts total seconds into days, hours, minutes and seconds."
   ]
  },
  {
   "cell_type": "code",
   "execution_count": null,
   "metadata": {},
   "outputs": [],
   "source": []
  }
 ],
 "metadata": {
  "kernelspec": {
   "display_name": "Python 3",
   "language": "python",
   "name": "python3"
  },
  "language_info": {
   "codemirror_mode": {
    "name": "ipython",
    "version": 3
   },
   "file_extension": ".py",
   "mimetype": "text/x-python",
   "name": "python",
   "nbconvert_exporter": "python",
   "pygments_lexer": "ipython3",
   "version": "3.8.3"
  }
 },
 "nbformat": 4,
 "nbformat_minor": 4
}
