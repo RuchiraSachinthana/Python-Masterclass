{
 "cells": [
  {
   "cell_type": "markdown",
   "source": [
    "FOR Loop\n"
   ],
   "metadata": {
    "collapsed": false
   }
  },
  {
   "cell_type": "code",
   "execution_count": 1,
   "outputs": [],
   "source": [],
   "metadata": {
    "collapsed": false
   }
  },
  {
   "cell_type": "code",
   "execution_count": 2,
   "outputs": [
    {
     "name": "stdout",
     "output_type": "stream",
     "text": [
      "2\n",
      "3\n",
      "4\n",
      "5\n",
      "6\n",
      "7\n",
      "8\n",
      "9\n",
      "10\n"
     ]
    }
   ],
   "source": [
    "L = [2,3,4,5,6,7,8,9,10]\n",
    "\n",
    "for value in L :\n",
    "    print(value)"
   ],
   "metadata": {
    "collapsed": false
   }
  },
  {
   "cell_type": "code",
   "execution_count": 3,
   "outputs": [
    {
     "name": "stdout",
     "output_type": "stream",
     "text": [
      "4\n",
      "6\n",
      "8\n",
      "10\n",
      "12\n",
      "14\n",
      "16\n",
      "18\n",
      "20\n"
     ]
    }
   ],
   "source": [
    "for x in L :\n",
    "    print(x*2)"
   ],
   "metadata": {
    "collapsed": false
   }
  },
  {
   "cell_type": "code",
   "execution_count": 4,
   "outputs": [
    {
     "name": "stdout",
     "output_type": "stream",
     "text": [
      "2\n",
      "4\n",
      "6\n",
      "8\n",
      "10\n"
     ]
    }
   ],
   "source": [
    "for i in L :\n",
    "    if i%2 == 0:\n",
    "        print(i)"
   ],
   "metadata": {
    "collapsed": false
   }
  },
  {
   "cell_type": "code",
   "execution_count": 5,
   "outputs": [
    {
     "data": {
      "text/plain": "[3, 5, 7, 9]"
     },
     "execution_count": 5,
     "metadata": {},
     "output_type": "execute_result"
    }
   ],
   "source": [
    "k = []\n",
    "\n",
    "for y in L :\n",
    "    if y%2 != 0:\n",
    "        k.append(y)\n",
    "k"
   ],
   "metadata": {
    "collapsed": false
   }
  },
  {
   "cell_type": "code",
   "execution_count": 6,
   "outputs": [
    {
     "name": "stdout",
     "output_type": "stream",
     "text": [
      "6 | 9 | 12 | 15 | 18 | 21 | 24 | 27 | 30 | "
     ]
    }
   ],
   "source": [
    "for q in L :\n",
    "    print(q*3, end=\" | \")"
   ],
   "metadata": {
    "collapsed": false
   }
  },
  {
   "cell_type": "code",
   "execution_count": 7,
   "outputs": [
    {
     "data": {
      "text/plain": "[3, 6, 9]"
     },
     "execution_count": 7,
     "metadata": {},
     "output_type": "execute_result"
    }
   ],
   "source": [
    "s = []\n",
    "for w in [1,4,7]:\n",
    "    s.append(L[w])\n",
    "\n",
    "s"
   ],
   "metadata": {
    "collapsed": false
   }
  },
  {
   "cell_type": "code",
   "execution_count": 8,
   "outputs": [
    {
     "data": {
      "text/plain": "[1, 2, 3, 4, 5, 6, 7, 8, 9]"
     },
     "execution_count": 8,
     "metadata": {},
     "output_type": "execute_result"
    }
   ],
   "source": [
    "range(1,10)\n",
    "list(range(1,10))"
   ],
   "metadata": {
    "collapsed": false
   }
  },
  {
   "cell_type": "code",
   "execution_count": 9,
   "outputs": [
    {
     "data": {
      "text/plain": "(1, 2, 3, 4, 5, 6, 7, 8, 9, 10)"
     },
     "execution_count": 9,
     "metadata": {},
     "output_type": "execute_result"
    }
   ],
   "source": [
    "tuple(range(1,11))"
   ],
   "metadata": {
    "collapsed": false
   }
  },
  {
   "cell_type": "code",
   "execution_count": 10,
   "outputs": [
    {
     "name": "stdout",
     "output_type": "stream",
     "text": [
      "1\n",
      "2\n",
      "3\n",
      "4\n",
      "5\n",
      "6\n",
      "7\n",
      "8\n",
      "9\n"
     ]
    }
   ],
   "source": [
    "for i in range(1,10):\n",
    "    print(i)"
   ],
   "metadata": {
    "collapsed": false
   }
  },
  {
   "cell_type": "code",
   "execution_count": 11,
   "outputs": [
    {
     "data": {
      "text/plain": "[0, 1, 2, 3, 4, 5, 6, 7, 8, 9]"
     },
     "execution_count": 11,
     "metadata": {},
     "output_type": "execute_result"
    }
   ],
   "source": [
    "list(range(10))"
   ],
   "metadata": {
    "collapsed": false
   }
  },
  {
   "cell_type": "code",
   "execution_count": 12,
   "outputs": [
    {
     "data": {
      "text/plain": "[1, 3, 5, 7, 9]"
     },
     "execution_count": 12,
     "metadata": {},
     "output_type": "execute_result"
    }
   ],
   "source": [
    "list(range(1,11,2))"
   ],
   "metadata": {
    "collapsed": false
   }
  },
  {
   "cell_type": "code",
   "execution_count": 13,
   "outputs": [
    {
     "data": {
      "text/plain": "[10, 9, 8, 7, 6, 5, 4, 3, 2]"
     },
     "execution_count": 13,
     "metadata": {},
     "output_type": "execute_result"
    }
   ],
   "source": [
    "list(range(10,1,-1))"
   ],
   "metadata": {
    "collapsed": false
   }
  },
  {
   "cell_type": "code",
   "execution_count": 14,
   "outputs": [
    {
     "data": {
      "text/plain": "[2, 4, 6, 21, 8, 55, 52, 57, 61, 78, 88, 9, 0, 93, 7, 5, 47, 4]"
     },
     "execution_count": 14,
     "metadata": {},
     "output_type": "execute_result"
    }
   ],
   "source": [
    "d = [2,4,6,21,8,55,52,57,61,78,88,9,0,93,7,5,47,4]\n",
    "f= []\n",
    "for i in range(len(d)):\n",
    "    if i%2 == 0:\n",
    "        f.append(d[i])\n",
    "d"
   ],
   "metadata": {
    "collapsed": false
   }
  },
  {
   "cell_type": "code",
   "execution_count": 15,
   "outputs": [
    {
     "name": "stdout",
     "output_type": "stream",
     "text": [
      "1 3 4 5 6 4 "
     ]
    }
   ],
   "source": [
    "l = [1,3,4,5,6,4,55,76,52,46,68,75,78,91,30]\n",
    "\n",
    "for j in l:\n",
    "    if j >= 35:\n",
    "        break\n",
    "\n",
    "    print(j, end=\" \")"
   ],
   "metadata": {
    "collapsed": false
   }
  },
  {
   "cell_type": "code",
   "execution_count": 16,
   "outputs": [
    {
     "name": "stdout",
     "output_type": "stream",
     "text": [
      "1 3 4 5 6 4 46 30 "
     ]
    }
   ],
   "source": [
    "l = [1,3,4,5,6,4,55,76,52,46,68,75,78,91,30]\n",
    "\n",
    "for j in l:\n",
    "    if j >= 50:\n",
    "        continue\n",
    "\n",
    "    print(j, end=\" \")"
   ],
   "metadata": {
    "collapsed": false
   }
  },
  {
   "cell_type": "code",
   "execution_count": 17,
   "outputs": [
    {
     "name": "stdout",
     "output_type": "stream",
     "text": [
      "[11, 21, 31, 41, 51, 61, 71, 81, 12, 22, 32, 42, 52, 62, 72, 82, 13, 23, 33, 43, 53, 63, 73, 83, 14, 24, 34, 44, 54, 64, 74, 84, 15, 25, 35, 45, 55, 65, 75, 85, 16, 26, 36, 46, 56, 66, 76, 86, 17, 27, 37, 47, 57, 67, 77, 87, 18, 28, 38, 48, 58, 68, 78, 88, 19, 29, 39, 49, 59, 69, 79, 89]\n"
     ]
    }
   ],
   "source": [
    "Lk = [1,2,3,4,5,6,7,8,9]\n",
    "In = [10,20,30,40,50,60,70,80]\n",
    "SN = []\n",
    "CH = []\n",
    "for i in Lk:\n",
    "    for j in In:\n",
    "        SN.append(i+j)\n",
    "\n",
    "print(SN)\n"
   ],
   "metadata": {
    "collapsed": false
   }
  },
  {
   "cell_type": "code",
   "execution_count": 18,
   "outputs": [
    {
     "name": "stdout",
     "output_type": "stream",
     "text": [
      "[11, 21, 31, 41, 51, 61, 71, 81, 12, 22, 32, 42, 52, 62, 72, 82, 13, 23, 33, 43, 53, 63, 73, 83, 14, 24, 34, 44, 54, 64, 74, 84, 15, 25, 35, 45, 55, 65, 75, 85, 16, 26, 36, 46, 56, 66, 76, 86, 17, 27, 37, 47, 57, 67, 77, 87, 18, 28, 38, 48, 58, 68, 78, 88, 19, 29, 39, 49, 59, 69, 79, 89]\n"
     ]
    }
   ],
   "source": [
    "for i in Lk:\n",
    "    for j in In:\n",
    "        if j%2 == 0:\n",
    "            CH.append(i+j)\n",
    "\n",
    "print(CH)"
   ],
   "metadata": {
    "collapsed": false
   }
  },
  {
   "cell_type": "code",
   "execution_count": 19,
   "outputs": [
    {
     "data": {
      "text/plain": "{2, 4, 6, 8, 10, 12, 14, 16, 18}"
     },
     "execution_count": 19,
     "metadata": {},
     "output_type": "execute_result"
    }
   ],
   "source": [
    "g = {2*i for i in Lk}\n",
    "g"
   ],
   "metadata": {
    "collapsed": false
   }
  },
  {
   "cell_type": "code",
   "execution_count": 20,
   "outputs": [
    {
     "name": "stdout",
     "output_type": "stream",
     "text": [
      "[54, 56, 75, 65, 68, 78, 90, 87]\n"
     ]
    }
   ],
   "source": [
    "marks = [54,32,56,75,65,45,68,78,90,87,12,46,36]\n",
    "passed_marks = [m for m in marks if m>=50]\n",
    "print(passed_marks)"
   ],
   "metadata": {
    "collapsed": false
   }
  },
  {
   "cell_type": "code",
   "execution_count": 21,
   "outputs": [
    {
     "name": "stdout",
     "output_type": "stream",
     "text": [
      "['PASS', 'FAIL', 'PASS', 'PASS', 'PASS', 'FAIL', 'PASS', 'PASS', 'PASS', 'PASS', 'FAIL', 'FAIL', 'FAIL']\n"
     ]
    }
   ],
   "source": [
    "marks = [54,32,56,75,65,45,68,78,90,87,12,46,36]\n",
    "result = [\"PASS\" if m>=50 else \"FAIL\" for m in marks]\n",
    "print(result)"
   ],
   "metadata": {
    "collapsed": false
   }
  },
  {
   "cell_type": "code",
   "execution_count": 22,
   "outputs": [
    {
     "name": "stdout",
     "output_type": "stream",
     "text": [
      "['C', 'F', 'C', 'A', 'B', 'C', 'B', 'A', 'A', 'A', 'F', 'C', 'F']\n"
     ]
    }
   ],
   "source": [
    "marks = [54,32,56,75,65,45,68,78,90,87,12,46,36]\n",
    "grades = [\"A\" if m>=75 else \"B\" if m>=65 else \"C\" if m>=55 else \"C\" if m>=45 else \"F\" for m in marks]\n",
    "print(grades)"
   ],
   "metadata": {
    "collapsed": false
   }
  },
  {
   "cell_type": "code",
   "execution_count": 23,
   "outputs": [
    {
     "name": "stdout",
     "output_type": "stream",
     "text": [
      "[11, 21, 31, 41, 51, 61, 71, 81, 12, 22, 32, 42, 52, 62, 72, 82, 13, 23, 33, 43, 53, 63, 73, 83, 14, 24, 34, 44, 54, 64, 74, 84, 15, 25, 35, 45, 55, 65, 75, 85, 16, 26, 36, 46, 56, 66, 76, 86, 17, 27, 37, 47, 57, 67, 77, 87, 18, 28, 38, 48, 58, 68, 78, 88, 19, 29, 39, 49, 59, 69, 79, 89]\n"
     ]
    }
   ],
   "source": [
    "p = [i+j for i in Lk for j in In]\n",
    "print(p)"
   ],
   "metadata": {
    "collapsed": false
   }
  },
  {
   "cell_type": "code",
   "execution_count": 24,
   "outputs": [
    {
     "name": "stdout",
     "output_type": "stream",
     "text": [
      "[20, 40, 60, 80, 100, 120, 140, 160, 20, 40, 60, 80, 100, 120, 140, 160, 20, 40, 60, 80, 100, 120, 140, 160, 20, 40, 60, 80, 100, 120, 140, 160, 20, 40, 60, 80, 100, 120, 140, 160, 20, 40, 60, 80, 100, 120, 140, 160, 20, 40, 60, 80, 100, 120, 140, 160, 20, 40, 60, 80, 100, 120, 140, 160, 20, 40, 60, 80, 100, 120, 140, 160]\n"
     ]
    }
   ],
   "source": [
    "v = [2*j for i in Lk for j in In]\n",
    "print(v)"
   ],
   "metadata": {
    "collapsed": false
   }
  },
  {
   "cell_type": "code",
   "execution_count": 26,
   "outputs": [
    {
     "data": {
      "text/plain": "[[1, 2], [3, 4], [5, 6], [7, 8], [9, 0]]"
     },
     "execution_count": 26,
     "metadata": {},
     "output_type": "execute_result"
    }
   ],
   "source": [
    "AB = [[1,2],[3,4],[5,6],[7,8],[9,0]]\n",
    "AB"
   ],
   "metadata": {
    "collapsed": false
   }
  },
  {
   "cell_type": "code",
   "execution_count": 28,
   "outputs": [
    {
     "name": "stdout",
     "output_type": "stream",
     "text": [
      "[1, 2]\n",
      "[3, 4]\n",
      "[5, 6]\n",
      "[7, 8]\n",
      "[9, 0]\n"
     ]
    }
   ],
   "source": [
    "for i in AB:\n",
    "    print(i)"
   ],
   "metadata": {
    "collapsed": false
   }
  },
  {
   "cell_type": "code",
   "execution_count": 31,
   "outputs": [
    {
     "name": "stdout",
     "output_type": "stream",
     "text": [
      "[3, 7, 11, 15, 9]\n",
      "1\n",
      "2\n",
      "**********\n",
      "3\n",
      "********\n",
      "3\n",
      "4\n",
      "**********\n",
      "7\n",
      "********\n",
      "5\n",
      "6\n",
      "**********\n",
      "11\n",
      "********\n",
      "7\n",
      "8\n",
      "**********\n",
      "15\n",
      "********\n",
      "9\n",
      "0\n",
      "**********\n",
      "9\n",
      "********\n"
     ]
    }
   ],
   "source": [
    "CD = []\n",
    "\n",
    "for i in AB:\n",
    "    CD.append(sum(i))\n",
    "\n",
    "print(CD)\n",
    "\n",
    "for i,j in AB:\n",
    "    print(i)\n",
    "    print(j)\n",
    "    print(\"**********\")\n",
    "    print(i+j)\n",
    "    print(\"********\")"
   ],
   "metadata": {
    "collapsed": false
   }
  },
  {
   "cell_type": "code",
   "execution_count": null,
   "outputs": [],
   "source": [],
   "metadata": {
    "collapsed": false
   }
  }
 ],
 "metadata": {
  "kernelspec": {
   "display_name": "Python 3",
   "language": "python",
   "name": "python3"
  },
  "language_info": {
   "codemirror_mode": {
    "name": "ipython",
    "version": 2
   },
   "file_extension": ".py",
   "mimetype": "text/x-python",
   "name": "python",
   "nbconvert_exporter": "python",
   "pygments_lexer": "ipython2",
   "version": "2.7.6"
  }
 },
 "nbformat": 4,
 "nbformat_minor": 0
}
